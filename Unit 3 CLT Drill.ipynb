{
 "cells": [
  {
   "cell_type": "code",
   "execution_count": 1,
   "metadata": {
    "collapsed": true
   },
   "outputs": [],
   "source": [
    "import pandas as pd\n",
    "import numpy as np\n",
    "import matplotlib.pyplot as plt\n",
    "%matplotlib inline"
   ]
  },
  {
   "cell_type": "code",
   "execution_count": 9,
   "metadata": {},
   "outputs": [
    {
     "name": "stdout",
     "output_type": "stream",
     "text": [
      "Population 1 Data\n",
      "1.9991\n",
      "1.27495066179\n",
      "Population 2 Data\n",
      "4.9894\n",
      "1.56916781767\n",
      "Sample 1 Data\n",
      "1.96\n",
      "1.2721635115\n",
      "Sample 2 Data\n",
      "5.03\n",
      "1.51957230825\n"
     ]
    },
    {
     "data": {
      "text/plain": [
       "<function matplotlib.pyplot.show>"
      ]
     },
     "execution_count": 9,
     "metadata": {},
     "output_type": "execute_result"
    },
    {
     "data": {
      "image/png": "[encoded data removed]",
      "text/plain": [
       "<matplotlib.figure.Figure at 0x113a6c6d8>"
      ]
     },
     "metadata": {},
     "output_type": "display_data"
    }
   ],
   "source": [
    "pop1 = np.random.binomial(10,.2,10000)\n",
    "pop2 = np.random.binomial(10,.5,10000)\n",
    "\n",
    "sample1 = np.random.choice(pop1, 100, replace=False)\n",
    "sample2 = np.random.choice(pop2, 100, replace=False)\n",
    "print('Population 1 Data')\n",
    "print(pop1.mean())\n",
    "print(pop1.std())\n",
    "print('Population 2 Data')\n",
    "print(pop2.mean())\n",
    "print(pop2.std())\n",
    "print('Sample 1 Data')\n",
    "print(sample1.mean())\n",
    "print(sample1.std())\n",
    "print('Sample 2 Data')\n",
    "print(sample2.mean())\n",
    "print(sample2.std())\n",
    "\n",
    "plt.hist(sample1)\n",
    "plt.hist(sample2)\n",
    "plt.show"
   ]
  },
  {
   "cell_type": "code",
   "execution_count": 7,
   "metadata": {},
   "outputs": [
    {
     "name": "stdout",
     "output_type": "stream",
     "text": [
      "2.3\n",
      "1.14455231423\n",
      "5.0\n",
      "1.81659021246\n"
     ]
    },
    {
     "data": {
      "text/plain": [
       "<function matplotlib.pyplot.show>"
      ]
     },
     "execution_count": 7,
     "metadata": {},
     "output_type": "execute_result"
    },
    {
     "data": {
      "image/png": "[encoded data removed]",
      "text/plain": [
       "<matplotlib.figure.Figure at 0x113820128>"
      ]
     },
     "metadata": {},
     "output_type": "display_data"
    }
   ],
   "source": [
    "sample3 = np.random.choice(pop1, 20, replace = False)\n",
    "sample4 = np.random.choice(pop2, 20, replace = False)\n",
    "\n",
    "print(sample3.mean())\n",
    "print(sample3.std())\n",
    "print(sample4.mean())\n",
    "print(sample4.std())\n",
    "\n",
    "plt.hist(sample3)\n",
    "plt.hist(sample4)\n",
    "plt.show"
   ]
  },
  {
   "cell_type": "code",
   "execution_count": 10,
   "metadata": {
    "collapsed": true
   },
   "outputs": [],
   "source": [
    "# Not much has changed from the data between the two samples, std and mean remain about the same\n",
    "pop1 = np.random.binomial(10,.3,10000)"
   ]
  },
  {
   "cell_type": "code",
   "execution_count": 14,
   "metadata": {},
   "outputs": [
    {
     "name": "stdout",
     "output_type": "stream",
     "text": [
      "Ttest_indResult(statistic=-3.5443996570384217, pvalue=0.00049118978262528408)\n"
     ]
    }
   ],
   "source": [
    "sample5 = np.random.choice(pop1, 100,replace = False)\n",
    "sample6 = np.random.choice(pop2, 100,replace = False)\n",
    "import scipy\n",
    "from scipy.stats import ttest_ind\n",
    "\n",
    "print(ttest_ind(sample5, sample6, equal_var = False))"
   ]
  },
  {
   "cell_type": "code",
   "execution_count": 15,
   "metadata": {
    "collapsed": true
   },
   "outputs": [],
   "source": [
    "pop1 = np.random.binomial(10,.4,10000)"
   ]
  },
  {
   "cell_type": "code",
   "execution_count": 16,
   "metadata": {},
   "outputs": [
    {
     "name": "stdout",
     "output_type": "stream",
     "text": [
      "Ttest_indResult(statistic=-5.854237027692629, pvalue=1.9649013191282486e-08)\n"
     ]
    }
   ],
   "source": [
    "sample7 = np.random.choice(pop1, 100,replace = False)\n",
    "sample8 = np.random.choice(pop2, 100,replace = False)\n",
    "\n",
    "print(ttest_ind(sample7, sample8, equal_var = False))"
   ]
  },
  {
   "cell_type": "code",
   "execution_count": null,
   "metadata": {
    "collapsed": true
   },
   "outputs": [],
   "source": []
  }
 ],
 "metadata": {
  "kernelspec": {
   "display_name": "Python 3",
   "language": "python",
   "name": "python3"
  },
  "language_info": {
   "codemirror_mode": {
    "name": "ipython",
    "version": 3
   },
   "file_extension": ".py",
   "mimetype": "text/x-python",
   "name": "python",
   "nbconvert_exporter": "python",
   "pygments_lexer": "ipython3",
   "version": "3.6.3"
  }
 },
 "nbformat": 4,
 "nbformat_minor": 2
}
